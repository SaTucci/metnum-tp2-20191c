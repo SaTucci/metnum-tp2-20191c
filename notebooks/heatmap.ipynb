{
 "cells": [
  {
   "cell_type": "markdown",
   "metadata": {},
   "source": [
    "# Sentiment Analysis con KNN\n",
    "## Clasificador en C++ 💪💪\n",
    "Vamos a probar a nuestro bichito\n"
   ]
  },
  {
   "cell_type": "markdown",
   "metadata": {},
   "source": [
    "Definir los path al ejecutable de python 3.6 y sus librerías,\n",
    "de acuerdo al virtual env que estén corriendo."
   ]
  },
  {
   "cell_type": "code",
   "execution_count": 1,
   "metadata": {},
   "outputs": [
    {
     "ename": "SyntaxError",
     "evalue": "invalid syntax (<ipython-input-1-43b4cc400c5b>, line 11)",
     "output_type": "error",
     "traceback": [
      "\u001b[0;36m  File \u001b[0;32m\"<ipython-input-1-43b4cc400c5b>\"\u001b[0;36m, line \u001b[0;32m11\u001b[0m\n\u001b[0;31m    import seaborn as snsdata = ''\u001b[0m\n\u001b[0m                              ^\u001b[0m\n\u001b[0;31mSyntaxError\u001b[0m\u001b[0;31m:\u001b[0m invalid syntax\n"
     ]
    }
   ],
   "source": [
    "from __future__ import print_function\n",
    "import subprocess\n",
    "import os\n",
    "import sys\n",
    "\n",
    "#Como esta anda con el formato que sigue:\n",
    "#por cada linea un solo valor, y al terminar\n",
    "#una fila del heatmap una coma \",\".\n",
    "#Por ejemplo:\n",
    "#1\n",
    "#2,\n",
    "#3\n",
    "#4,\n",
    "#5\n",
    "#6,\n",
    "#seria una matriz de 3x2 con 1 y 2 en la primera fila.\n",
    "#Esto es feo, habria que cambiarlo a un formato que tenga sentido.\n",
    "\n",
    "\n",
    "file = \"../data/test_results/out_df_1b.csv\"\n",
    "#For ploting\n",
    "import numpy as np\n",
    "import pandas as pd\n",
    "import matplotlib.pyplot as plt\n",
    "import seaborn as sns\n",
    "data = ''\n",
    "with open(file, 'r') as file:\n",
    "    data = file.read()\n",
    "data = data.split(',')\n",
    "structured_data = []\n",
    "for d in data:\n",
    "    line = d.split('\\n')\n",
    "    clean_line = list(filter(None, line))\n",
    "    structured_data.append(clean_line)\n",
    "structured_data = [x for x in structured_data if x != []]\n",
    "structured_data = [[float(j) for j in i] for i in structured_data]\n",
    "structured_data = [i[1:] for i in structured_data]\n",
    "x = range(0, len(structured_data[0]))\n",
    "y = range(0, len(structured_data))\n",
    "x, y = np.meshgrid(x, y)\n",
    "structured_data = np.array(structured_data)\n",
    "plt.pcolormesh(x, y, structured_data)\n",
    "plt.colorbar()\n",
    "plt.xlabel('Nodo', fontsize=18)\n",
    "plt.ylabel('p', fontsize=18)\n",
    "plt.savefig(results_folder + version + '_' + str(size) + '_' + str('%.2f' % p_value) + '.png', bbox_inches='tight')\n",
    "plt.clf()\n",
    "\n"
   ]
  },
  {
   "cell_type": "code",
   "execution_count": null,
   "metadata": {},
   "outputs": [],
   "source": []
  }
 ],
 "metadata": {
  "kernelspec": {
   "display_name": "Python 3",
   "language": "python",
   "name": "python3"
  },
  "language_info": {
   "codemirror_mode": {
    "name": "ipython",
    "version": 3
   },
   "file_extension": ".py",
   "mimetype": "text/x-python",
   "name": "python",
   "nbconvert_exporter": "python",
   "pygments_lexer": "ipython3",
   "version": "3.6.6"
  }
 },
 "nbformat": 4,
 "nbformat_minor": 2
}
