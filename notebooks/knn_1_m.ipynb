{
 "cells": [
  {
   "cell_type": "markdown",
   "metadata": {},
   "source": [
    "# Sentiment Analysis con KNN\n",
    "## Clasificador en C++ 💪💪\n",
    "Vamos a probar a nuestro bichito\n"
   ]
  },
  {
   "cell_type": "markdown",
   "metadata": {},
   "source": [
    "Definir los path al ejecutable de python 3.6 y sus librerías,\n",
    "de acuerdo al virtual env que estén corriendo."
   ]
  },
  {
   "cell_type": "code",
   "execution_count": 1,
   "metadata": {},
   "outputs": [
    {
     "name": "stdout",
     "output_type": "stream",
     "text": [
      "mkdir: cannot create directory ‘build’: File exists\n",
      "-- The C compiler identification is GNU 7.3.0\n",
      "-- The CXX compiler identification is GNU 7.3.0\n",
      "-- Check for working C compiler: /usr/bin/cc\n",
      "-- Check for working C compiler: /usr/bin/cc -- works\n",
      "-- Detecting C compiler ABI info\n",
      "-- Detecting C compiler ABI info - done\n",
      "-- Detecting C compile features\n",
      "-- Detecting C compile features - done\n",
      "-- Check for working CXX compiler: /usr/bin/c++\n",
      "-- Check for working CXX compiler: /usr/bin/c++ -- works\n",
      "-- Detecting CXX compiler ABI info\n",
      "-- Detecting CXX compiler ABI info - done\n",
      "-- Detecting CXX compile features\n",
      "-- Detecting CXX compile features - done\n",
      "Release mode\n",
      "-- Found PythonInterp: /home/martin/.pyenv/shims/python (found version \"3.6.5\") \n",
      "-- Found PythonLibs: /home/martin/.pyenv/versions/3.6.5/lib/libpython3.6m.a\n",
      "-- pybind11 v2.3.dev0\n",
      "-- Performing Test HAS_FLTO\n",
      "-- Performing Test HAS_FLTO - Success\n",
      "-- LTO enabled\n",
      "CMAKE_INSTALL_PREFIX=/home/martin/Desktop/repos/metnum-tp2-20191c\n",
      "-- Configuring done\n",
      "-- Generating done\n",
      "-- Build files have been written to: /home/martin/Desktop/repos/metnum-tp2-20191c/build\n",
      "\u001b[35m\u001b[1mScanning dependencies of target sentiment\u001b[0m\n",
      "[ 20%] \u001b[32mBuilding CXX object CMakeFiles/sentiment.dir/src/sentiment.cpp.o\u001b[0m\n",
      "[ 40%] \u001b[32mBuilding CXX object CMakeFiles/sentiment.dir/src/knn.cpp.o\u001b[0m\n",
      "\u001b[01m\u001b[K/home/martin/Desktop/repos/metnum-tp2-20191c/src/knn.cpp:\u001b[m\u001b[K In member function ‘\u001b[01m\u001b[Kdouble KNNClassifier::_predict_row(Vector)\u001b[m\u001b[K’:\n",
      "\u001b[01m\u001b[K/home/martin/Desktop/repos/metnum-tp2-20191c/src/knn.cpp:44:22:\u001b[m\u001b[K \u001b[01;35m\u001b[Kwarning: \u001b[m\u001b[Kcomparison between signed and unsigned integer expressions [\u001b[01;35m\u001b[K-Wsign-compare\u001b[m\u001b[K]\n",
      "     for(int i = 0; \u001b[01;35m\u001b[Ki < n_neighbors\u001b[m\u001b[K; i++){\n",
      "                    \u001b[01;35m\u001b[K~~^~~~~~~~~~~~~\u001b[m\u001b[K\n",
      "[ 60%] \u001b[32mBuilding CXX object CMakeFiles/sentiment.dir/src/pca.cpp.o\u001b[0m\n",
      "[ 80%] \u001b[32mBuilding CXX object CMakeFiles/sentiment.dir/src/eigen.cpp.o\u001b[0m\n",
      "\u001b[01m\u001b[K/home/martin/Desktop/repos/metnum-tp2-20191c/src/eigen.cpp:\u001b[m\u001b[K In function ‘\u001b[01m\u001b[Kstd::pair<double, Eigen::Matrix<double, -1, 1> > power_iteration(const Matrix&, unsigned int, double)\u001b[m\u001b[K’:\n",
      "\u001b[01m\u001b[K/home/martin/Desktop/repos/metnum-tp2-20191c/src/eigen.cpp:13:22:\u001b[m\u001b[K \u001b[01;35m\u001b[Kwarning: \u001b[m\u001b[Kcomparison between signed and unsigned integer expressions [\u001b[01;35m\u001b[K-Wsign-compare\u001b[m\u001b[K]\n",
      "     for(int i = 0; \u001b[01;35m\u001b[Ki < num_iter\u001b[m\u001b[K; i++){\n",
      "                    \u001b[01;35m\u001b[K~~^~~~~~~~~~\u001b[m\u001b[K\n",
      "\u001b[01m\u001b[K/home/martin/Desktop/repos/metnum-tp2-20191c/src/eigen.cpp:\u001b[m\u001b[K In function ‘\u001b[01m\u001b[Kstd::pair<Eigen::Matrix<double, -1, 1>, Eigen::Matrix<double, -1, -1, 1> > get_first_eigenvalues(const Matrix&, unsigned int, unsigned int, double)\u001b[m\u001b[K’:\n",
      "\u001b[01m\u001b[K/home/martin/Desktop/repos/metnum-tp2-20191c/src/eigen.cpp:31:22:\u001b[m\u001b[K \u001b[01;35m\u001b[Kwarning: \u001b[m\u001b[Kcomparison between signed and unsigned integer expressions [\u001b[01;35m\u001b[K-Wsign-compare\u001b[m\u001b[K]\n",
      "     for(int i = 0; \u001b[01;35m\u001b[Ki < num\u001b[m\u001b[K; i++){\n",
      "                    \u001b[01;35m\u001b[K~~^~~~~\u001b[m\u001b[K\n",
      "[100%] \u001b[32m\u001b[1mLinking CXX shared module sentiment.cpython-36m-x86_64-linux-gnu.so\u001b[0m\n",
      "[100%] Built target sentiment\n",
      "\u001b[36mInstall the project...\u001b[0m\n",
      "-- Install configuration: \"Release\"\n",
      "-- Installing: /home/martin/Desktop/repos/metnum-tp2-20191c/notebooks/sentiment.cpython-36m-x86_64-linux-gnu.so\n"
     ]
    }
   ],
   "source": [
    "!cd .. && git submodule init\n",
    "!cd .. && git submodule update\n",
    "!cd .. && mkdir build\n",
    "!cd ../build/ && rm -rf *\n",
    "!cd ../build && cmake \\\n",
    "  -DPYTHON_EXECUTABLE=\"$(which python)\" \\\n",
    "  -DCMAKE_BUILD_TYPE=Release ..\n",
    "!cd ../build && make install"
   ]
  },
  {
   "cell_type": "code",
   "execution_count": 2,
   "metadata": {},
   "outputs": [
    {
     "name": "stdout",
     "output_type": "stream",
     "text": [
      "/home/martin/Desktop/repos/metnum-tp2-20191c/notebooks\n",
      "Python 3.6.5\n"
     ]
    }
   ],
   "source": [
    "# Verifico la correcta instalación. Si no falla el import está OK\n",
    "!pwd\n",
    "!python --version\n",
    "import sentiment\n"
   ]
  },
  {
   "cell_type": "code",
   "execution_count": 3,
   "metadata": {},
   "outputs": [
    {
     "name": "stdout",
     "output_type": "stream",
     "text": [
      "./._imdb_small.csv\n",
      "imdb_small.csv\n",
      "Cantidad de documentos: 12500\n"
     ]
    }
   ],
   "source": [
    "%load_ext autoreload\n",
    "%autoreload 2\n",
    "import pandas as pd\n",
    "\n",
    "!cd ../data && tar -xvf *.tgz\n",
    "\n",
    "df = pd.read_csv(\"../data/imdb_small.csv\", index_col=0)\n",
    "\n",
    "print(\"Cantidad de documentos: {}\".format(df.shape[0]))"
   ]
  },
  {
   "cell_type": "code",
   "execution_count": 4,
   "metadata": {},
   "outputs": [
    {
     "data": {
      "text/html": [
       "<div>\n",
       "<style scoped>\n",
       "    .dataframe tbody tr th:only-of-type {\n",
       "        vertical-align: middle;\n",
       "    }\n",
       "\n",
       "    .dataframe tbody tr th {\n",
       "        vertical-align: top;\n",
       "    }\n",
       "\n",
       "    .dataframe thead th {\n",
       "        text-align: right;\n",
       "    }\n",
       "</style>\n",
       "<table border=\"1\" class=\"dataframe\">\n",
       "  <thead>\n",
       "    <tr style=\"text-align: right;\">\n",
       "      <th></th>\n",
       "      <th>type</th>\n",
       "      <th>review</th>\n",
       "      <th>label</th>\n",
       "      <th>file</th>\n",
       "    </tr>\n",
       "  </thead>\n",
       "  <tbody>\n",
       "    <tr>\n",
       "      <th>count</th>\n",
       "      <td>12500</td>\n",
       "      <td>12500</td>\n",
       "      <td>12500</td>\n",
       "      <td>12500</td>\n",
       "    </tr>\n",
       "    <tr>\n",
       "      <th>unique</th>\n",
       "      <td>2</td>\n",
       "      <td>12469</td>\n",
       "      <td>2</td>\n",
       "      <td>12085</td>\n",
       "    </tr>\n",
       "    <tr>\n",
       "      <th>top</th>\n",
       "      <td>test</td>\n",
       "      <td>By far this has to be one of the worst movies ...</td>\n",
       "      <td>neg</td>\n",
       "      <td>7787_10.txt</td>\n",
       "    </tr>\n",
       "    <tr>\n",
       "      <th>freq</th>\n",
       "      <td>6275</td>\n",
       "      <td>2</td>\n",
       "      <td>6322</td>\n",
       "      <td>2</td>\n",
       "    </tr>\n",
       "  </tbody>\n",
       "</table>\n",
       "</div>"
      ],
      "text/plain": [
       "         type                                             review  label  \\\n",
       "count   12500                                              12500  12500   \n",
       "unique      2                                              12469      2   \n",
       "top      test  By far this has to be one of the worst movies ...    neg   \n",
       "freq     6275                                                  2   6322   \n",
       "\n",
       "               file  \n",
       "count         12500  \n",
       "unique        12085  \n",
       "top     7787_10.txt  \n",
       "freq              2  "
      ]
     },
     "execution_count": 4,
     "metadata": {},
     "output_type": "execute_result"
    }
   ],
   "source": [
    "df.describe()"
   ]
  },
  {
   "cell_type": "code",
   "execution_count": 5,
   "metadata": {},
   "outputs": [
    {
     "name": "stdout",
     "output_type": "stream",
     "text": [
      "Cantidad de instancias de entrenamiento = 6225\n",
      "Cantidad de instancias de test = 6275\n"
     ]
    }
   ],
   "source": [
    "text_train = df[df.type == 'train'][\"review\"]\n",
    "label_train = df[df.type == 'train'][\"label\"]\n",
    "\n",
    "text_test = df[df.type == 'test'][\"review\"]\n",
    "label_test = df[df.type == 'test'][\"label\"]\n",
    "\n",
    "print(\"Cantidad de instancias de entrenamiento = {}\".format(len(text_train)))\n",
    "print(\"Cantidad de instancias de test = {}\".format(len(text_test)))\n"
   ]
  },
  {
   "cell_type": "code",
   "execution_count": 6,
   "metadata": {},
   "outputs": [
    {
     "name": "stdout",
     "output_type": "stream",
     "text": [
      "Class balance : 0.49493975903614457 pos 0.5050602409638554 neg\n"
     ]
    }
   ],
   "source": [
    "print(\"Class balance : {} pos {} neg\".format(\n",
    "    (label_train == 'pos').sum() / label_train.shape[0], \n",
    "    (label_train == 'neg').sum() / label_train.shape[0]\n",
    "))"
   ]
  },
  {
   "cell_type": "code",
   "execution_count": 7,
   "metadata": {},
   "outputs": [],
   "source": [
    "from sklearn.feature_extraction.text import CountVectorizer\n",
    "\n",
    "vectorizer = CountVectorizer(max_df=0.90, min_df=0.01, max_features=5000)\n",
    "\n",
    "vectorizer.fit(text_train)\n",
    "\n",
    "X_train, y_train = vectorizer.transform(text_train), (label_train == 'pos').values\n",
    "X_test, y_test = vectorizer.transform(text_test), (label_test == 'pos').values"
   ]
  },
  {
   "cell_type": "code",
   "execution_count": 21,
   "metadata": {},
   "outputs": [],
   "source": [
    "import sentiment\n",
    "\n",
    "clf = sentiment.KNNClassifier(100)\n",
    "#esta linea y el siguiente bloque son para correr KNN sin PCA\n",
    "#esta comentado para poder ejecutar todos los bloques sin ejecutar este\n",
    "#por equivocacion\n",
    "#clf.fit(X_train, y_train)\n"
   ]
  },
  {
   "cell_type": "code",
   "execution_count": 22,
   "metadata": {},
   "outputs": [],
   "source": [
    "#%%time\n",
    "#from sklearn.metrics import accuracy_score\n",
    "#y_pred = clf.predict(X_test)\n",
    "\n",
    "#acc = accuracy_score(y_test, y_pred)\n",
    "#print(\"Accuracy: {}\".format(acc))"
   ]
  },
  {
   "cell_type": "code",
   "execution_count": 23,
   "metadata": {},
   "outputs": [],
   "source": [
    "pca = sentiment.PCA(30)"
   ]
  },
  {
   "cell_type": "code",
   "execution_count": 31,
   "metadata": {},
   "outputs": [],
   "source": [
    "pca.fit(X_train,10000, 0.000000001)"
   ]
  },
  {
   "cell_type": "code",
   "execution_count": 25,
   "metadata": {},
   "outputs": [],
   "source": [
    "pca_X_train = pca.transform(X_train, 5)\n",
    "pca_X_test = pca.transform(X_test,5)"
   ]
  },
  {
   "cell_type": "code",
   "execution_count": 26,
   "metadata": {},
   "outputs": [
    {
     "name": "stdout",
     "output_type": "stream",
     "text": [
      "5\n",
      "[[ -6.90497268  -2.81010477  -0.93969949  -2.6381538   -2.85025472]\n",
      " [ -7.81907144   1.4215357   -1.45152066   2.06105015   0.62981852]\n",
      " [ -3.26337631  -1.48763321  -0.44734354  -0.95986524   1.96630703]\n",
      " ...\n",
      " [-18.35496461  -0.47617457  -2.7777734    4.01547945   3.0803519 ]\n",
      " [ -6.3272365   -0.23604173   1.11981217   2.20128377  -0.3660268 ]\n",
      " [-18.26258536   0.67115043  -1.17023443  -2.0891063    5.85577905]]\n"
     ]
    }
   ],
   "source": [
    "print(pca_X_test.shape[1])\n",
    "print(pca_X_test)"
   ]
  },
  {
   "cell_type": "code",
   "execution_count": 27,
   "metadata": {},
   "outputs": [
    {
     "name": "stdout",
     "output_type": "stream",
     "text": [
      "Accuracy: 0.5655776892430279\n",
      "CPU times: user 4.02 s, sys: 7.99 ms, total: 4.03 s\n",
      "Wall time: 4.01 s\n"
     ]
    }
   ],
   "source": [
    "%%time\n",
    "clf.fit(pca_X_train, y_train)\n",
    "from sklearn.metrics import accuracy_score\n",
    "from sklearn.metrics import precision_score\n",
    "from sklearn.metrics import recall_score\n",
    "\n",
    "y_pred = clf.predict(pca_X_test)\n",
    "\n",
    "acc = accuracy_score(y_test, y_pred)\n",
    "print(\"Accuracy: {}\".format(acc))\n",
    "\n"
   ]
  },
  {
   "cell_type": "code",
   "execution_count": 10,
   "metadata": {},
   "outputs": [],
   "source": [
    "#All in one. Thuis cell defines the tester functions.\n",
    "import time\n",
    "from sklearn.feature_extraction.text import CountVectorizer\n",
    "def test(max_alpha_, min_alpha_, alpha_step_, max_df_=0.90, min_df_=0.01, max_features_=5000, knn_neighbours_=100, log=False):\n",
    "\n",
    "    vectorizer = CountVectorizer(max_df=max_df_, min_df=min_df_, max_features=max_features_)\n",
    "    vectorizer.fit(text_train)\n",
    "\n",
    "    X_train, y_train = vectorizer.transform(text_train), (label_train == 'pos').values\n",
    "    X_test, y_test = vectorizer.transform(text_test), (label_test == 'pos').values\n",
    "\n",
    "    import sentiment\n",
    "\n",
    "    clf = sentiment.KNNClassifier(knn_neighbours_)\n",
    "    pca = sentiment.PCA(max_alpha_)\n",
    "    #fitteo con el x_train calculado arriba\n",
    "    pca.fit(X_train,10000, 0.0000000001)\n",
    "    #loopeo para todos los alphas\n",
    "    for alpha_ in range(min_alpha_, max_alpha_, alpha_step_):\n",
    "        pca_X_train = pca.transform(X_train, alpha_)\n",
    "        pca_X_test = pca.transform(X_test,alpha_)\n",
    "\n",
    "        #Timing starts, same as previous cell:\n",
    "        start = time.time()\n",
    "\n",
    "        clf.fit(pca_X_train, y_train)\n",
    "        from sklearn.metrics import accuracy_score\n",
    "        from sklearn.metrics import precision_score\n",
    "        from sklearn.metrics import recall_score\n",
    "\n",
    "        y_pred = clf.predict(pca_X_test)\n",
    "\n",
    "        acc = accuracy_score(y_test, y_pred)\n",
    "        pre = precision_score(y_test, y_pred)\n",
    "        rec = recall_score(y_test, y_pred)\n",
    "        f1 = 2*(pre*rec)/(pre+rec)\n",
    "        #Timing ends, again, like in previous cell.\n",
    "        end = time.time()\n",
    "        delta_time = end - start\n",
    "        delta_time_str = str(round(delta_time, 2))\n",
    "        if log:\n",
    "            comma = \", \"\n",
    "            f = open(\"../data/test_results/out_df_1.csv\",\"a+\")\n",
    "            f.write(\"\\n\")\n",
    "            f.write(str(round(acc,2)) + comma)\n",
    "            f.write(str(round(pre,2)) + comma)\n",
    "            f.write(str(round(rec,2)) + comma)\n",
    "            f.write(delta_time_str + comma)\n",
    "            f.write(str(round(max_df_,2)) + comma)\n",
    "            f.write(str(round(min_df_,2)) + comma)\n",
    "            f.write(str(round(max_features_,2)) + comma)\n",
    "            f.write(str(round(knn_neighbours_,2)) + comma)\n",
    "            f.write(str(round(alpha_,2))+ comma)\n",
    "            f.write(str(round(f1,2)))\n",
    "            f.close()\n",
    "\n",
    "    return f1\n"
   ]
  },
  {
   "cell_type": "code",
   "execution_count": null,
   "metadata": {},
   "outputs": [],
   "source": [
    "#Actual testing, this cell runs the tester functions and logs or prints results.\n",
    "#It may take a long time to run.\n",
    "import numpy as np\n",
    "#OJO, puse esto en true para testear\n",
    "test_individually = False\n",
    "if test_individually:\n",
    "    test(max_alpha_=11, min_alpha_= 10, alpha_step_=2,max_df_=0.90, min_df_=0.01, max_features_=5000, knn_neighbours_=10,log=True)\n",
    "else:\n",
    "    max_alpha = 101\n",
    "    min_alpha = 100\n",
    "    alpha_step = 1\n",
    "    max_features = 5000\n",
    "    knn_neighbours = 50\n",
    "    #for min_df in np.arange(0.01, 0.49,0.03):\n",
    "    for min_df in np.arange(0.01, 0.06,0.03):\n",
    "        for max_df in np.arange(0.49, 0.99,0.03):\n",
    "            test(max_alpha_= max_alpha, min_alpha_= min_alpha, alpha_step_=alpha_step,max_df_= max_df, min_df_= min_df, max_features_=max_features, knn_neighbours_=knn_neighbours,log=True)\n"
   ]
  },
  {
   "cell_type": "code",
   "execution_count": null,
   "metadata": {},
   "outputs": [],
   "source": []
  },
  {
   "cell_type": "code",
   "execution_count": 47,
   "metadata": {},
   "outputs": [
    {
     "name": "stdout",
     "output_type": "stream",
     "text": [
      "Current vector: [0.9, 0.01, 3000, 165, 275]\n",
      "Found a better value: 0.68652522130111\n",
      "New argument vector: [0.9, 0.01, 1500, 165, 275]\n",
      "\n",
      "Current vector: [0.9, 0.01, 1500, 165, 275]\n",
      "Found a better value: 0.7004207954391203\n",
      "New argument vector: [0.9, 0.01, 1500, 165, 412]\n",
      "\n",
      "Current vector: [0.9, 0.01, 1500, 165, 412]\n",
      "Found a better value: 0.7096691129136089\n",
      "New argument vector: [0.9, 0.01, 1500, 165, 618]\n",
      "\n",
      "Current vector: [0.9, 0.01, 1500, 165, 618]\n",
      "Found a better value: 0.7109102646868949\n",
      "New argument vector: [0.9, 0.01, 1500, 83, 618]\n",
      "\n",
      "Current vector: [0.9, 0.01, 1500, 83, 618]\n",
      "Found a better value: 0.7128278000258365\n",
      "New argument vector: [0.9, 0.01, 1500, 124, 618]\n",
      "\n",
      "Current vector: [0.9, 0.01, 1500, 124, 618]\n",
      "Local maximum found (0.7128278000258365), rising aggressiveness to: 1.15\n",
      "Argument vector: [0.9, 0.01, 1500, 124, 618]\n",
      "Current vector: [0.9, 0.01, 1500, 124, 618]\n"
     ]
    },
    {
     "ename": "KeyboardInterrupt",
     "evalue": "",
     "output_type": "error",
     "traceback": [
      "\u001b[0;31m---------------------------------------------------------------------------\u001b[0m",
      "\u001b[0;31mKeyboardInterrupt\u001b[0m                         Traceback (most recent call last)",
      "\u001b[0;32m<ipython-input-47-f3afc96d0b05>\u001b[0m in \u001b[0;36m<module>\u001b[0;34m\u001b[0m\n\u001b[1;32m    103\u001b[0m \u001b[0mp0\u001b[0m \u001b[0;34m=\u001b[0m \u001b[0;34m[\u001b[0m\u001b[0;36m0.9\u001b[0m\u001b[0;34m,\u001b[0m \u001b[0;36m0.01\u001b[0m\u001b[0;34m,\u001b[0m \u001b[0;36m3000\u001b[0m\u001b[0;34m,\u001b[0m \u001b[0;36m165\u001b[0m\u001b[0;34m,\u001b[0m \u001b[0;36m275\u001b[0m\u001b[0;34m]\u001b[0m\u001b[0;34m\u001b[0m\u001b[0m\n\u001b[1;32m    104\u001b[0m \u001b[0mv0\u001b[0m \u001b[0;34m=\u001b[0m \u001b[0mtest\u001b[0m\u001b[0;34m(\u001b[0m\u001b[0mpca\u001b[0m\u001b[0;34m,\u001b[0m \u001b[0mp0\u001b[0m\u001b[0;34m[\u001b[0m\u001b[0;36m0\u001b[0m\u001b[0;34m]\u001b[0m\u001b[0;34m,\u001b[0m \u001b[0mp0\u001b[0m\u001b[0;34m[\u001b[0m\u001b[0;36m1\u001b[0m\u001b[0;34m]\u001b[0m\u001b[0;34m,\u001b[0m \u001b[0mp0\u001b[0m\u001b[0;34m[\u001b[0m\u001b[0;36m2\u001b[0m\u001b[0;34m]\u001b[0m\u001b[0;34m,\u001b[0m \u001b[0mp0\u001b[0m\u001b[0;34m[\u001b[0m\u001b[0;36m3\u001b[0m\u001b[0;34m]\u001b[0m\u001b[0;34m,\u001b[0m \u001b[0mp0\u001b[0m\u001b[0;34m[\u001b[0m\u001b[0;36m4\u001b[0m\u001b[0;34m]\u001b[0m\u001b[0;34m,\u001b[0m \u001b[0mlog\u001b[0m\u001b[0;34m=\u001b[0m\u001b[0;32mTrue\u001b[0m\u001b[0;34m)\u001b[0m\u001b[0;34m\u001b[0m\u001b[0m\n\u001b[0;32m--> 105\u001b[0;31m \u001b[0mgradient_descent\u001b[0m\u001b[0;34m(\u001b[0m\u001b[0mpca\u001b[0m\u001b[0;34m,\u001b[0m \u001b[0mp0\u001b[0m\u001b[0;34m,\u001b[0m \u001b[0mv0\u001b[0m\u001b[0;34m,\u001b[0m \u001b[0mmax_iters\u001b[0m \u001b[0;34m=\u001b[0m \u001b[0;36m1000000\u001b[0m\u001b[0;34m,\u001b[0m \u001b[0mdebug\u001b[0m \u001b[0;34m=\u001b[0m \u001b[0;32mTrue\u001b[0m\u001b[0;34m)\u001b[0m\u001b[0;34m\u001b[0m\u001b[0m\n\u001b[0m",
      "\u001b[0;32m<ipython-input-47-f3afc96d0b05>\u001b[0m in \u001b[0;36mgradient_descent\u001b[0;34m(pca, p0, start_value, max_iters, debug)\u001b[0m\n\u001b[1;32m     56\u001b[0m             \u001b[0mchanged\u001b[0m \u001b[0;34m=\u001b[0m \u001b[0;32mTrue\u001b[0m\u001b[0;34m\u001b[0m\u001b[0m\n\u001b[1;32m     57\u001b[0m \u001b[0;34m\u001b[0m\u001b[0m\n\u001b[0;32m---> 58\u001b[0;31m         \u001b[0mnext_val\u001b[0m \u001b[0;34m=\u001b[0m \u001b[0mtest\u001b[0m\u001b[0;34m(\u001b[0m\u001b[0mpca\u001b[0m\u001b[0;34m,\u001b[0m \u001b[0mp0\u001b[0m\u001b[0;34m[\u001b[0m\u001b[0;36m0\u001b[0m\u001b[0;34m]\u001b[0m\u001b[0;34m,\u001b[0m \u001b[0mp0\u001b[0m\u001b[0;34m[\u001b[0m\u001b[0;36m1\u001b[0m\u001b[0;34m]\u001b[0m\u001b[0;34m,\u001b[0m \u001b[0mmax\u001b[0m\u001b[0;34m(\u001b[0m\u001b[0;36m3\u001b[0m\u001b[0;34m,\u001b[0m\u001b[0mp0\u001b[0m\u001b[0;34m[\u001b[0m\u001b[0;36m2\u001b[0m\u001b[0;34m]\u001b[0m\u001b[0;34m-\u001b[0m\u001b[0mstep2\u001b[0m\u001b[0;34m)\u001b[0m\u001b[0;34m,\u001b[0m \u001b[0mp0\u001b[0m\u001b[0;34m[\u001b[0m\u001b[0;36m3\u001b[0m\u001b[0;34m]\u001b[0m\u001b[0;34m,\u001b[0m \u001b[0mp0\u001b[0m\u001b[0;34m[\u001b[0m\u001b[0;36m4\u001b[0m\u001b[0;34m]\u001b[0m\u001b[0;34m,\u001b[0m \u001b[0mlog\u001b[0m\u001b[0;34m)\u001b[0m\u001b[0;34m\u001b[0m\u001b[0m\n\u001b[0m\u001b[1;32m     59\u001b[0m         \u001b[0;32mif\u001b[0m \u001b[0mnext_val\u001b[0m \u001b[0;34m>\u001b[0m \u001b[0mold_val\u001b[0m\u001b[0;34m:\u001b[0m\u001b[0;34m\u001b[0m\u001b[0m\n\u001b[1;32m     60\u001b[0m             \u001b[0mp1\u001b[0m \u001b[0;34m=\u001b[0m \u001b[0;34m[\u001b[0m\u001b[0mp0\u001b[0m\u001b[0;34m[\u001b[0m\u001b[0;36m0\u001b[0m\u001b[0;34m]\u001b[0m\u001b[0;34m,\u001b[0m \u001b[0mp0\u001b[0m\u001b[0;34m[\u001b[0m\u001b[0;36m1\u001b[0m\u001b[0;34m]\u001b[0m\u001b[0;34m,\u001b[0m \u001b[0mp0\u001b[0m\u001b[0;34m[\u001b[0m\u001b[0;36m2\u001b[0m\u001b[0;34m]\u001b[0m\u001b[0;34m-\u001b[0m\u001b[0mstep2\u001b[0m\u001b[0;34m,\u001b[0m \u001b[0mp0\u001b[0m\u001b[0;34m[\u001b[0m\u001b[0;36m3\u001b[0m\u001b[0;34m]\u001b[0m\u001b[0;34m,\u001b[0m \u001b[0mp0\u001b[0m\u001b[0;34m[\u001b[0m\u001b[0;36m4\u001b[0m\u001b[0;34m]\u001b[0m\u001b[0;34m]\u001b[0m\u001b[0;34m\u001b[0m\u001b[0m\n",
      "\u001b[0;32m<ipython-input-44-9744625ee947>\u001b[0m in \u001b[0;36mtest\u001b[0;34m(pca, max_df_, min_df_, max_features_, knn_neighbours_, alpha_, log)\u001b[0m\n\u001b[1;32m     30\u001b[0m     \u001b[0;32mfrom\u001b[0m \u001b[0msklearn\u001b[0m\u001b[0;34m.\u001b[0m\u001b[0mmetrics\u001b[0m \u001b[0;32mimport\u001b[0m \u001b[0mrecall_score\u001b[0m\u001b[0;34m\u001b[0m\u001b[0m\n\u001b[1;32m     31\u001b[0m \u001b[0;34m\u001b[0m\u001b[0m\n\u001b[0;32m---> 32\u001b[0;31m     \u001b[0my_pred\u001b[0m \u001b[0;34m=\u001b[0m \u001b[0mclf\u001b[0m\u001b[0;34m.\u001b[0m\u001b[0mpredict\u001b[0m\u001b[0;34m(\u001b[0m\u001b[0mpca_X_test\u001b[0m\u001b[0;34m)\u001b[0m\u001b[0;34m\u001b[0m\u001b[0m\n\u001b[0m\u001b[1;32m     33\u001b[0m \u001b[0;34m\u001b[0m\u001b[0m\n\u001b[1;32m     34\u001b[0m     \u001b[0macc\u001b[0m \u001b[0;34m=\u001b[0m \u001b[0maccuracy_score\u001b[0m\u001b[0;34m(\u001b[0m\u001b[0my_test\u001b[0m\u001b[0;34m,\u001b[0m \u001b[0my_pred\u001b[0m\u001b[0;34m)\u001b[0m\u001b[0;34m\u001b[0m\u001b[0m\n",
      "\u001b[0;31mKeyboardInterrupt\u001b[0m: "
     ]
    }
   ],
   "source": [
    "def gradient_descent(pca, p0, start_value, max_iters, debug = False):\n",
    "    \n",
    "    old_val = start_value\n",
    "    p1 = [p0[0], p0[1], p0[2], p0[3], p0[4]]\n",
    "    aggr = 1\n",
    "    aggr_max = 3\n",
    "    log = True\n",
    "\n",
    "    while True:\n",
    "        \n",
    "        p0 = p1\n",
    "        print(\"Current vector: \" + str(p0))\n",
    "        \n",
    "        step0 = aggr*p0[0]*0.05#0.03\n",
    "        step1 = aggr*p0[1]*0.05 #0.03\n",
    "        step2 = int(aggr*p0[2]*0.5) #1000\n",
    "        step3 = int(aggr*p0[3]*0.5) #10\n",
    "        step4 = int(aggr*p0[4]*0.5) #100\n",
    "\n",
    "        changed = False\n",
    "        \n",
    "        if max_iters == 0:\n",
    "            print(\"Ending descent due to max_iters\")\n",
    "            break\n",
    "        max_iters -= 1\n",
    "        \n",
    "        next_val = test(pca, max(0,p0[0]+step0), p0[1], p0[2], p0[3], p0[4], log)\n",
    "        if next_val > old_val:\n",
    "            p1 = [p0[0]+step0, p0[1], p0[2], p0[3], p0[4]]\n",
    "            old_val = next_val\n",
    "            changed = True\n",
    "\n",
    "        next_val = test(pca, max(0,p0[0]-step0), p0[1], p0[2], p0[3], p0[4], log)\n",
    "        if next_val > old_val:\n",
    "            p1 = [p0[0]-step0, p0[1], p0[2], p0[3], p0[4]]\n",
    "            old_val = next_val\n",
    "            changed = True\n",
    "\n",
    "        next_val = test(pca, p0[0], max(0,p0[1]+step1), p0[2], p0[3], p0[4], log)\n",
    "        if next_val > old_val:\n",
    "            p1 = [p0[0], p0[1]+step1, p0[2], p0[3], p0[4]]\n",
    "            old_val = next_val\n",
    "            changed = True\n",
    "            \n",
    "        next_val = test(pca, p0[0], max(0,p0[1]-step1), p0[2], p0[3], p0[4], log)\n",
    "        if next_val > old_val:\n",
    "            p1 = [p0[0], p0[1]-step1, p0[2], p0[3], p0[4]]\n",
    "            old_val = next_val\n",
    "            changed = True\n",
    "        \n",
    "        next_val = test(pca, p0[0], p0[1], max(3,p0[2]+step2), p0[3], p0[4], log)\n",
    "        if next_val > old_val:\n",
    "            p1 = [p0[0], p0[1], p0[2]+step2, p0[3], p0[4]]\n",
    "            old_val = next_val\n",
    "            changed = True\n",
    "            \n",
    "        next_val = test(pca, p0[0], p0[1], max(3,p0[2]-step2), p0[3], p0[4], log)\n",
    "        if next_val > old_val:\n",
    "            p1 = [p0[0], p0[1], p0[2]-step2, p0[3], p0[4]]\n",
    "            old_val = next_val\n",
    "            changed = True\n",
    "\n",
    "        next_val = test(pca, p0[0], p0[1], p0[2], max(3,p0[3]+step3), p0[4], log)\n",
    "        if next_val > old_val:\n",
    "            p1 = [p0[0], p0[1], p0[2], p0[3]+step3, p0[4]]\n",
    "            old_val = next_val\n",
    "            changed = True\n",
    "            \n",
    "        next_val = test(pca, p0[0], p0[1], p0[2], max(3,p0[3]-step3), p0[4], log)\n",
    "        if next_val > old_val:\n",
    "            p1 = [p0[0], p0[1], p0[2], p0[3]-step3, p0[4]]\n",
    "            old_val = next_val\n",
    "            changed = True\n",
    "\n",
    "        next_val = test(pca, p0[0], p0[1], p0[2], p0[3], max(3,p0[4]+step4), log)\n",
    "        if next_val > old_val:\n",
    "            p1 = [p0[0], p0[1], p0[2], p0[3], p0[4]+step4]\n",
    "            old_val = next_val\n",
    "            changed = True\n",
    "\n",
    "        next_val = test(pca, p0[0], p0[1], p0[2], p0[3], max(3,p0[4]-step4), log)\n",
    "        if next_val > old_val:\n",
    "            p1 = [p0[0], p0[1], p0[2], p0[3], p0[4]-step4]\n",
    "            old_val = next_val\n",
    "            changed = True\n",
    "\n",
    "        if not changed:\n",
    "            aggr *= 1.15\n",
    "            if debug:\n",
    "                print(\"Local maximum found (\" + str(old_val) + \"), rising aggressiveness to: \"+ str(aggr))\n",
    "                print(\"Argument vector: \" + str(p1))\n",
    "            if aggr > aggr_max:\n",
    "                aggr = 1\n",
    "                print(\"Aggressiveness got to high, resetting to one.\")\n",
    "            \n",
    "        if debug and changed:\n",
    "            print(\"Found a better value: \" + str(old_val))\n",
    "            print(\"New argument vector: \" + str(p1) + \"\\n\")\n",
    "            \n",
    "        \n",
    "p0 = [0.90, 0.01,3000, 20, 30]\n",
    "p0 = [0.9, 0.01, 3000, 165, 275]\n",
    "p0 = [0.9, 0.01, 1500, 124, 618]\n",
    "v0 = test(pca, p0[0], p0[1], p0[2], p0[3], p0[4], log=True)\n",
    "gradient_descent(pca, p0, v0, max_iters = 1000000, debug = True)\n"
   ]
  },
  {
   "cell_type": "code",
   "execution_count": null,
   "metadata": {},
   "outputs": [],
   "source": []
  }
 ],
 "metadata": {
  "kernelspec": {
   "display_name": "Python 3",
   "language": "python",
   "name": "python3"
  },
  "language_info": {
   "codemirror_mode": {
    "name": "ipython",
    "version": 3
   },
   "file_extension": ".py",
   "mimetype": "text/x-python",
   "name": "python",
   "nbconvert_exporter": "python",
   "pygments_lexer": "ipython3",
   "version": "3.6.6"
  }
 },
 "nbformat": 4,
 "nbformat_minor": 2
}
